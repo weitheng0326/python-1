{
 "cells": [
  {
   "cell_type": "code",
   "execution_count": 2,
   "id": "f23b5dd1",
   "metadata": {},
   "outputs": [
    {
     "name": "stdout",
     "output_type": "stream",
     "text": [
      "hello world\n"
     ]
    }
   ],
   "source": [
    "print('hello world')"
   ]
  },
  {
   "cell_type": "code",
   "execution_count": 1,
   "id": "c8c6cd90",
   "metadata": {},
   "outputs": [
    {
     "name": "stdout",
     "output_type": "stream",
     "text": [
      "hello world\n"
     ]
    }
   ],
   "source": [
    "\"\"\"\n",
    "This is hello world\n",
    "\"\"\"\n",
    "\n",
    "#LOL\n",
    "\n",
    "print('hello world')\n"
   ]
  },
  {
   "cell_type": "code",
   "execution_count": 4,
   "id": "78deec35",
   "metadata": {},
   "outputs": [
    {
     "name": "stdout",
     "output_type": "stream",
     "text": [
      "hello chan\n",
      "hello chan\n",
      "hello chan\n",
      "hello chan\n",
      "hello chan\n"
     ]
    }
   ],
   "source": [
    "print('hello chan')\n",
    "print('hello chan')\n",
    "print('hello chan')\n",
    "print('hello chan')\n",
    "print('hello chan')"
   ]
  },
  {
   "cell_type": "code",
   "execution_count": 5,
   "id": "0ec786a7",
   "metadata": {},
   "outputs": [
    {
     "name": "stdout",
     "output_type": "stream",
     "text": [
      "Hello, Chan Wei Theng\n",
      "Hello, Chan Wei Theng\n",
      "Hello, Chan Wei Theng\n",
      "Hello, Chan Wei Theng\n",
      "Hello, Chan Wei Theng\n"
     ]
    }
   ],
   "source": [
    "name = 'Chan Wei Theng'\n",
    "\n",
    "print(f\"Hello, {name}\")\n",
    "print(f\"Hello, {name}\")\n",
    "print(f\"Hello, {name}\")\n",
    "print(f\"Hello, {name}\")\n",
    "print(f\"Hello, {name}\")\n"
   ]
  },
  {
   "cell_type": "code",
   "execution_count": 10,
   "id": "37e4687a",
   "metadata": {},
   "outputs": [
    {
     "name": "stdout",
     "output_type": "stream",
     "text": [
      "Hello, Wei Theng and I am 22 years old\n",
      "Hello, Wei Theng and I am 22 years old\n"
     ]
    }
   ],
   "source": [
    "name = \"Wei Theng\"\n",
    "age = 22\n",
    "\n",
    "print('Hello, ' +name+ ' and I am '+str(age)+ ' years old')\n",
    "\n",
    "print(f\"Hello, {name} and I am {age } years old\")"
   ]
  },
  {
   "cell_type": "code",
   "execution_count": 12,
   "id": "fec2fb6c",
   "metadata": {},
   "outputs": [
    {
     "name": "stdout",
     "output_type": "stream",
     "text": [
      "<class 'str'>\n"
     ]
    }
   ],
   "source": [
    "age = \"22\"\n",
    "print(type(age))"
   ]
  },
  {
   "cell_type": "code",
   "execution_count": 16,
   "id": "c81fe8d3",
   "metadata": {},
   "outputs": [
    {
     "name": "stdout",
     "output_type": "stream",
     "text": [
      "20000.0\n"
     ]
    }
   ],
   "source": [
    "text = '$20k'\n",
    "print(float(text.replace('k','000').replace('$','')))"
   ]
  },
  {
   "cell_type": "code",
   "execution_count": 14,
   "id": "c6aa46f6",
   "metadata": {},
   "outputs": [
    {
     "name": "stdout",
     "output_type": "stream",
     "text": [
      "1020\n"
     ]
    }
   ],
   "source": [
    "num_1 = '10'\n",
    "num_2 = '20'\n",
    "\n",
    "print(num_1 + num_2)"
   ]
  },
  {
   "cell_type": "code",
   "execution_count": 20,
   "id": "4f94cca1",
   "metadata": {},
   "outputs": [
    {
     "name": "stdout",
     "output_type": "stream",
     "text": [
      "<class 'list'>\n",
      "Alia\n"
     ]
    }
   ],
   "source": [
    "students = [\"Rahman\", \"Alia\",\"Anis\", \"Aniq\"]\n",
    "print(type(students))\n",
    "\n",
    "print(students[1])"
   ]
  },
  {
   "cell_type": "code",
   "execution_count": 23,
   "id": "b16412b6",
   "metadata": {},
   "outputs": [
    {
     "name": "stdout",
     "output_type": "stream",
     "text": [
      "['Aniq', 'Rahman', 'Alia', 'Anis', 'Aniq']\n"
     ]
    }
   ],
   "source": [
    "students = [\"Rahman\", \"Alia\",\"Anis\", \"Aniq\"]\n",
    "students.insert(0,'Aniq')\n",
    "\n",
    "print((students))"
   ]
  },
  {
   "cell_type": "code",
   "execution_count": 25,
   "id": "bdfb193f",
   "metadata": {},
   "outputs": [
    {
     "name": "stdout",
     "output_type": "stream",
     "text": [
      "{'Rahman': 20, 'Alia': 21, 'Anis': 22, 'Aniq': 23, 'Muthu': 22}\n"
     ]
    }
   ],
   "source": [
    "students_age = {\n",
    "    \"Rahman\": 20,\n",
    "    \"Alia\": 21,\n",
    "    \"Anis\": 22,\n",
    "    \"Aniq\": 23\n",
    "}\n",
    "\n",
    "students_age[\"Muthu\"] = 22\n",
    "print(students_age)"
   ]
  },
  {
   "cell_type": "code",
   "execution_count": null,
   "id": "20bcac34",
   "metadata": {},
   "outputs": [
    {
     "name": "stdout",
     "output_type": "stream",
     "text": [
      "You are not allowed to enter\n",
      "You are allowed to enter\n",
      "You are allowed to enter\n",
      "You are allowed to enter\n",
      "You are allowed to enter\n",
      "You are allowed to enter\n",
      "You are allowed to enter\n",
      "You are allowed to enter\n",
      "You are allowed to enter\n",
      "You are allowed to enter\n",
      "You are allowed to enter\n",
      "You are not allowed to enter\n"
     ]
    }
   ],
   "source": [
    "while True:\n",
    "    name = input('Whats your name?')\n",
    "\n",
    "    if name == \"Chan\":\n",
    "        print('You are not allowed to enter')\n",
    "    else:\n",
    "        print('You are allowed to enter')\n",
    "\n",
    "\n"
   ]
  },
  {
   "cell_type": "code",
   "execution_count": null,
   "id": "fde2baa0",
   "metadata": {},
   "outputs": [],
   "source": []
  }
 ],
 "metadata": {
  "kernelspec": {
   "display_name": "Python 3",
   "language": "python",
   "name": "python3"
  },
  "language_info": {
   "codemirror_mode": {
    "name": "ipython",
    "version": 3
   },
   "file_extension": ".py",
   "mimetype": "text/x-python",
   "name": "python",
   "nbconvert_exporter": "python",
   "pygments_lexer": "ipython3",
   "version": "3.12.1"
  }
 },
 "nbformat": 4,
 "nbformat_minor": 5
}
